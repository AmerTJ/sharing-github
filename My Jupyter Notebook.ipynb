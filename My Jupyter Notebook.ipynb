{
  "metadata": {
    "language_info": {
      "codemirror_mode": {
        "name": "python",
        "version": 3
      },
      "file_extension": ".py",
      "mimetype": "text/x-python",
      "name": "python",
      "nbconvert_exporter": "python",
      "pygments_lexer": "ipython3",
      "version": "3.8"
    },
    "kernelspec": {
      "name": "python",
      "display_name": "Python (Pyodide)",
      "language": "python"
    }
  },
  "nbformat_minor": 4,
  "nbformat": 4,
  "cells": [
    {
      "cell_type": "markdown",
      "source": "# **My Jupyter Notebook on IBM Watson Studio**",
      "metadata": {}
    },
    {
      "cell_type": "markdown",
      "source": "### **Amer TAHRI JOUTEY**",
      "metadata": {}
    },
    {
      "cell_type": "markdown",
      "source": "#### University Student in Computer Science",
      "metadata": {}
    },
    {
      "cell_type": "markdown",
      "source": "#### *I am interested in Computer Science and Data Science because i love insights from Data as it helps us make lot of researches and applications in few time. I'm so passionate about Data Science, as it's a field of study that groups, examines, and unearths data that may be applied to decision-making.*",
      "metadata": {}
    },
    {
      "cell_type": "markdown",
      "source": "### **The following code makes a simple addition of two numbers**",
      "metadata": {}
    },
    {
      "cell_type": "code",
      "source": "def add(x, y):\n    return x + y\na = 1\nb = 2\nprint(\"Addition :\", add(a,b))",
      "metadata": {
        "trusted": true
      },
      "execution_count": 2,
      "outputs": [
        {
          "name": "stdout",
          "text": "Addition : 3\n",
          "output_type": "stream"
        }
      ]
    },
    {
      "cell_type": "markdown",
      "source": "* One\n* Two\n* Three\n* Four\n* Five\n* Six",
      "metadata": {}
    },
    {
      "cell_type": "markdown",
      "source": "Numbers...\n\n---\n\nCodes...\n\n***\n\nLetters...\n\n___\n\nWords...",
      "metadata": {}
    },
    {
      "cell_type": "markdown",
      "source": "Markdown | Less | Pretty\n--- | --- | ---\n*Still* | `renders` | **nicely**\n1 | 2 | 3",
      "metadata": {}
    },
    {
      "cell_type": "markdown",
      "source": "<a href=\"http://www.youtube.com\">Youtube</a>",
      "metadata": {}
    },
    {
      "cell_type": "markdown",
      "source": "<a href=\"http://www.google.com\">Google</a>",
      "metadata": {}
    },
    {
      "cell_type": "code",
      "source": "",
      "metadata": {},
      "execution_count": null,
      "outputs": []
    }
  ]
}